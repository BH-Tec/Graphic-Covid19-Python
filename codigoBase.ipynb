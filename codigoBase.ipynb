{
 "cells": [
  {
   "cell_type": "code",
   "execution_count": null,
   "metadata": {},
   "outputs": [],
   "source": [
    "import pandas as pd\n",
    "import plotly.express as px\n",
    "import streamlit as st\n",
    "\n",
    "#Lendo o dataset\n",
    "df = pd.read_csv('https://raw.githubusercontent.com/wcota/covid19br/master/cases-brazil-states.csv')\n",
    "\n",
    "#Melhorando o nome das colunas da tabela\n",
    "df = df.rename(columns={'newDeaths': 'Novos óbitos','newCases': 'Novos casos','deaths_per_100k_inhabitants': 'Óbitos por 100 mil habitantes','totalCases_per_100k_inhabitants':'Casos por 100 mil habitantes'})\n",
    "\n",
    "#Seleção do Estado\n",
    "estados = list(df['state'].unique())\n",
    "state = st.sidebar.selectbox('Qual o estado?', estados)\n",
    "\n",
    "#Seleção da Coluna\n",
    "colunas = ['Novos óbitos','Novos casos','Óbitos por 100 mil habitantes','Casos por 100 mil habitantes']\n",
    "column = st.sidebar.selectbox('Qual o tipo de informação?', colunas)\n",
    "\n",
    "#Seleção das linhas que pertence ao Estado\n",
    "df = df[df['state'] == state]\n",
    "\n",
    "fig = px.line(df, x=\"date\", y=column, title=column + ' - ' + state)\n",
    "fig.update_layout( xaxis_title='Data', yaxis_title=column.upper(), title = {'x':0.5})\n",
    "\n",
    "st.title('Dados da Covid - Brasil')\n",
    "st.write('Nessa aplicação, o usuário tem a opção de escolher o estado e o tipo de informações para mostrar o grático.')\n",
    "\n",
    "st.plotly_chart(fig, use_container_width=True)\n",
    "\n",
    "st.caption('Dados obtidos a partir do site: https://github.com/wcota/covid19br')\n"
   ]
  }
 ],
 "metadata": {
  "kernelspec": {
   "display_name": "Python 3.9.12 ('base')",
   "language": "python",
   "name": "python3"
  },
  "language_info": {
   "codemirror_mode": {
    "name": "ipython",
    "version": 3
   },
   "file_extension": ".py",
   "mimetype": "text/x-python",
   "name": "python",
   "nbconvert_exporter": "python",
   "pygments_lexer": "ipython3",
   "version": "3.9.12"
  },
  "orig_nbformat": 4,
  "vscode": {
   "interpreter": {
    "hash": "9febd13ef0c7e7a723ae581e239a544f36b8ac9e5c9c424724674a8e3ebede23"
   }
  }
 },
 "nbformat": 4,
 "nbformat_minor": 2
}
